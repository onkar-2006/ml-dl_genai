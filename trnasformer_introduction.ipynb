{
  "nbformat": 4,
  "nbformat_minor": 0,
  "metadata": {
    "colab": {
      "provenance": []
    },
    "kernelspec": {
      "name": "python3",
      "display_name": "Python 3"
    },
    "language_info": {
      "name": "python"
    }
  },
  "cells": [
    {
      "cell_type": "code",
      "execution_count": null,
      "metadata": {
        "id": "_5qZzJOvremM"
      },
      "outputs": [],
      "source": [
        "#introduction to the large language models\n",
        "# %%capture\n",
        "# !pip install transformers>=4.40.1 accelerate>=0.27.2"
      ]
    },
    {
      "cell_type": "code",
      "source": [
        "from transformers import AutoModelForCausalLM, AutoTokenizer\n",
        "\n",
        "# Load model and tokenizer\n",
        "model = AutoModelForCausalLM.from_pretrained(\n",
        "    \"microsoft/Phi-3-mini-4k-instruct\",\n",
        "    device_map=\"cuda\",\n",
        "    torch_dtype=\"auto\",\n",
        "    trust_remote_code=False,\n",
        ")\n",
        "tokenizer = AutoTokenizer.from_pretrained(\"microsoft/Phi-3-mini-4k-instruct\")"
      ],
      "metadata": {
        "id": "Y2LjMtsLtCPx"
      },
      "execution_count": null,
      "outputs": []
    },
    {
      "cell_type": "code",
      "source": [
        "from transformers import pipeline\n",
        "\n",
        "# Create a pipeline\n",
        "generator = pipeline(\n",
        "    \"text-generation\",\n",
        "    model=model,\n",
        "    tokenizer=tokenizer,\n",
        "    return_full_text=False,\n",
        "    max_new_tokens=500,\n",
        "    do_sample=False\n",
        ")"
      ],
      "metadata": {
        "id": "jc9fBKNMx1U6"
      },
      "execution_count": null,
      "outputs": []
    },
    {
      "cell_type": "code",
      "source": [
        "messages=[\n",
        "    {\n",
        "        \"role\":\"user\",\n",
        "        \"content\":\"create a funny joke about chickens\",\n",
        "    }\n",
        "]\n",
        "\n",
        "output=generator(\"messages\")\n",
        "print(output[0]['generated_text'])"
      ],
      "metadata": {
        "id": "FZrfW6Yp44gB"
      },
      "execution_count": null,
      "outputs": []
    },
    {
      "cell_type": "code",
      "source": [
        "prompt=input(\"ask the question in your mind\")"
      ],
      "metadata": {
        "id": "cyIqv3GZ4JW9"
      },
      "execution_count": null,
      "outputs": []
    },
    {
      "cell_type": "code",
      "source": [
        "if prompt:\n",
        "  messages=[{\n",
        "      role:\"user\",\"content\":\"{prompt}\"\n",
        "  }]\n",
        "  output=generator(output)\n",
        "  print(output[0]['generatored_text'])\n"
      ],
      "metadata": {
        "id": "kn2fSfdo4PUp"
      },
      "execution_count": null,
      "outputs": []
    }
  ]
}