{
  "nbformat": 4,
  "nbformat_minor": 0,
  "metadata": {
    "colab": {
      "provenance": []
    },
    "kernelspec": {
      "name": "python3",
      "display_name": "Python 3"
    },
    "language_info": {
      "name": "python"
    }
  },
  "cells": [
    {
      "cell_type": "code",
      "execution_count": 5,
      "metadata": {
        "id": "LjwJuXqTshUN"
      },
      "outputs": [],
      "source": [
        "import pandas as pd\n",
        "import matplotlib.pyplot as plt\n",
        "from sklearn.decomposition import PCA\n",
        "from sklearn.cluster import KMeans\n",
        "from sklearn.preprocessing import StandardScaler\n",
        "import warnings\n",
        "\n",
        "warnings.filterwarnings(\"ignore\", category=FutureWarning)\n"
      ]
    },
    {
      "cell_type": "code",
      "source": [
        "# Loading and examining the dataset\n",
        "penguins_df = pd.read_csv(\"/kaggle/input/clustering-penguins-species/penguins.csv\")\n",
        "penguins_df.head()"
      ],
      "metadata": {
        "id": "q7k4sR_8sxuG"
      },
      "execution_count": null,
      "outputs": []
    },
    {
      "cell_type": "code",
      "source": [
        "penguins_df.boxplot()\n",
        "plt.show()\n",
        "penguins_df = penguins_df.dropna()\n",
        "penguins_df[penguins_df[\"flipper_length_mm\"] > 4000]\n",
        "penguins_df[penguins_df[\"flipper_length_mm\"] < 0]\n",
        "penguins_clean = penguins_df.drop([9, 14])\n",
        "penguins_clean.head()"
      ],
      "metadata": {
        "id": "78MU7YC7tO0f"
      },
      "execution_count": null,
      "outputs": []
    },
    {
      "cell_type": "code",
      "source": [
        "df = pd.get_dummies(penguins_clean).drop(\"sex_.\", axis=1)\n",
        "df.head()"
      ],
      "metadata": {
        "id": "UiTFYAWatrjB"
      },
      "execution_count": null,
      "outputs": []
    },
    {
      "cell_type": "code",
      "source": [
        "scaler = StandardScaler()\n",
        "X = scaler.fit_transform(df)\n",
        "penguins_preprocessed = pd.DataFrame(data=X, columns=df.columns)\n",
        "penguins_preprocessed.head(10)\n"
      ],
      "metadata": {
        "id": "w1V3NEyNt9vz"
      },
      "execution_count": null,
      "outputs": []
    },
    {
      "cell_type": "code",
      "source": [
        "pca = PCA(n_components=None)\n",
        "dfx_pca = pca.fit(penguins_preprocessed)\n",
        "dfx_pca.explained_variance_ratio_\n",
        "n_components = sum(dfx_pca.explained_variance_ratio_ > 0.1)\n",
        "pca = PCA(n_components=n_components)\n",
        "penguins_PCA = pca.fit_transform(penguins_preprocessed)\n",
        "print(n_components)\n"
      ],
      "metadata": {
        "id": "03S6Bnhsup9r"
      },
      "execution_count": null,
      "outputs": []
    },
    {
      "cell_type": "code",
      "source": [
        "\n",
        "inertia = []\n",
        "for k in range(1, 10):\n",
        "    kmeans = KMeans(n_clusters=k, random_state=42).fit(penguins_PCA)\n",
        "    inertia.append(kmeans.inertia_)\n",
        "plt.plot(range(1, 10), inertia, marker=\"o\")\n",
        "plt.xlabel(\"Number of clusters\")\n",
        "plt.ylabel(\"Inertia\")\n",
        "plt.title(\"Elbow Method\")\n",
        "plt.show()\n",
        "n_clusters = 4\n"
      ],
      "metadata": {
        "id": "himjwq97vXjP"
      },
      "execution_count": null,
      "outputs": []
    },
    {
      "cell_type": "code",
      "source": [
        "kmeans = KMeans(n_clusters=n_clusters, random_state=42).fit(penguins_PCA)\n",
        "plt.scatter(penguins_PCA[:, 0], penguins_PCA[:, 1], c=kmeans.labels_, cmap=\"viridis\")\n",
        "plt.xlabel(\"First Principal Component\")\n",
        "plt.ylabel(\"Second Principal Component\")\n",
        "plt.title(f\"K-means Clustering (K={n_clusters})\")\n",
        "plt.show()"
      ],
      "metadata": {
        "id": "F4qpfptQxDTa"
      },
      "execution_count": null,
      "outputs": []
    },
    {
      "cell_type": "markdown",
      "source": [],
      "metadata": {
        "id": "CQaVbal4tq66"
      }
    }
  ]
}